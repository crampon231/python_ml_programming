{
 "cells": [
  {
   "cell_type": "code",
   "execution_count": 2,
   "metadata": {
    "collapsed": true
   },
   "outputs": [],
   "source": [
    "from sklearn import datasets\n",
    "import numpy as np"
   ]
  },
  {
   "cell_type": "code",
   "execution_count": 3,
   "metadata": {
    "collapsed": true
   },
   "outputs": [],
   "source": [
    "iris = datasets.load_iris()"
   ]
  },
  {
   "cell_type": "code",
   "execution_count": 4,
   "metadata": {
    "collapsed": false
   },
   "outputs": [
    {
     "data": {
      "text/plain": [
       "sklearn.datasets.base.Bunch"
      ]
     },
     "execution_count": 4,
     "metadata": {},
     "output_type": "execute_result"
    }
   ],
   "source": [
    "type(iris)"
   ]
  },
  {
   "cell_type": "code",
   "execution_count": 8,
   "metadata": {
    "collapsed": false
   },
   "outputs": [
    {
     "name": "stdout",
     "output_type": "stream",
     "text": [
      "datasets\t iris\t np\t \n"
     ]
    }
   ],
   "source": [
    "%who"
   ]
  },
  {
   "cell_type": "code",
   "execution_count": 3,
   "metadata": {
    "collapsed": false
   },
   "outputs": [],
   "source": [
    "X = iris.data[:,[2,3]]"
   ]
  },
  {
   "cell_type": "code",
   "execution_count": 4,
   "metadata": {
    "collapsed": false
   },
   "outputs": [
    {
     "data": {
      "text/plain": [
       "numpy.ndarray"
      ]
     },
     "execution_count": 4,
     "metadata": {},
     "output_type": "execute_result"
    }
   ],
   "source": [
    "type(X)"
   ]
  },
  {
   "cell_type": "code",
   "execution_count": 5,
   "metadata": {
    "collapsed": true
   },
   "outputs": [],
   "source": [
    "y = iris.target"
   ]
  },
  {
   "cell_type": "code",
   "execution_count": 6,
   "metadata": {
    "collapsed": false
   },
   "outputs": [
    {
     "data": {
      "text/plain": [
       "numpy.ndarray"
      ]
     },
     "execution_count": 6,
     "metadata": {},
     "output_type": "execute_result"
    }
   ],
   "source": [
    "type(y)"
   ]
  },
  {
   "cell_type": "code",
   "execution_count": 7,
   "metadata": {
    "collapsed": false
   },
   "outputs": [
    {
     "name": "stdout",
     "output_type": "stream",
     "text": [
      "Class labels: [0 1 2]\n"
     ]
    }
   ],
   "source": [
    "print(\"Class labels:\", np.unique(y))"
   ]
  },
  {
   "cell_type": "code",
   "execution_count": 8,
   "metadata": {
    "collapsed": false
   },
   "outputs": [
    {
     "data": {
      "text/plain": [
       "numpy.ndarray"
      ]
     },
     "execution_count": 8,
     "metadata": {},
     "output_type": "execute_result"
    }
   ],
   "source": [
    "type(np.unique(y))"
   ]
  },
  {
   "cell_type": "code",
   "execution_count": 9,
   "metadata": {
    "collapsed": true
   },
   "outputs": [],
   "source": [
    "from sklearn.cross_validation import train_test_split"
   ]
  },
  {
   "cell_type": "code",
   "execution_count": 10,
   "metadata": {
    "collapsed": false
   },
   "outputs": [],
   "source": [
    "X_train, X_test, y_train, y_test = train_test_split( X, y,  test_size = 0.3, random_state=0)"
   ]
  },
  {
   "cell_type": "code",
   "execution_count": 11,
   "metadata": {
    "collapsed": true
   },
   "outputs": [],
   "source": [
    "from sklearn.preprocessing import StandardScaler"
   ]
  },
  {
   "cell_type": "code",
   "execution_count": 12,
   "metadata": {
    "collapsed": true
   },
   "outputs": [],
   "source": [
    "sc = StandardScaler()"
   ]
  },
  {
   "cell_type": "code",
   "execution_count": 13,
   "metadata": {
    "collapsed": false
   },
   "outputs": [
    {
     "data": {
      "text/plain": [
       "StandardScaler(copy=True, with_mean=True, with_std=True)"
      ]
     },
     "execution_count": 13,
     "metadata": {},
     "output_type": "execute_result"
    }
   ],
   "source": [
    "sc.fit(X_train)"
   ]
  },
  {
   "cell_type": "code",
   "execution_count": 14,
   "metadata": {
    "collapsed": true
   },
   "outputs": [],
   "source": [
    "X_train_std = sc.transform(X_train)\n",
    "X_test_std = sc.transform(X_test)"
   ]
  },
  {
   "cell_type": "code",
   "execution_count": 15,
   "metadata": {
    "collapsed": false,
    "scrolled": true
   },
   "outputs": [
    {
     "data": {
      "text/plain": [
       "array([[ 3.5,  1. ],\n",
       "       [ 5.5,  1.8],\n",
       "       [ 5.7,  2.5],\n",
       "       [ 5. ,  1.5],\n",
       "       [ 5.8,  1.8],\n",
       "       [ 3.9,  1.1],\n",
       "       [ 6.1,  2.3],\n",
       "       [ 4.7,  1.6],\n",
       "       [ 3.8,  1.1],\n",
       "       [ 4.9,  1.8],\n",
       "       [ 5.1,  1.5],\n",
       "       [ 4.5,  1.7],\n",
       "       [ 5. ,  1.9],\n",
       "       [ 4.7,  1.4],\n",
       "       [ 5.2,  2. ],\n",
       "       [ 4.5,  1.6],\n",
       "       [ 1.6,  0.2],\n",
       "       [ 5.1,  1.9],\n",
       "       [ 4.2,  1.3],\n",
       "       [ 3.6,  1.3],\n",
       "       [ 4. ,  1.3],\n",
       "       [ 4.6,  1.4],\n",
       "       [ 6. ,  1.8],\n",
       "       [ 1.5,  0.2],\n",
       "       [ 1.1,  0.1],\n",
       "       [ 5.3,  1.9],\n",
       "       [ 4.2,  1.2],\n",
       "       [ 1.7,  0.2],\n",
       "       [ 1.5,  0.4],\n",
       "       [ 4.9,  1.5],\n",
       "       [ 1.5,  0.2],\n",
       "       [ 5.1,  1.8],\n",
       "       [ 3. ,  1.1],\n",
       "       [ 1.4,  0.3],\n",
       "       [ 4.5,  1.5],\n",
       "       [ 6.1,  2.5],\n",
       "       [ 4.2,  1.3],\n",
       "       [ 1.4,  0.1],\n",
       "       [ 5.9,  2.1],\n",
       "       [ 5.7,  2.3],\n",
       "       [ 5.8,  2.2],\n",
       "       [ 5.6,  2.1],\n",
       "       [ 1.6,  0.2],\n",
       "       [ 1.6,  0.2],\n",
       "       [ 5.1,  2. ],\n",
       "       [ 5.7,  2.1],\n",
       "       [ 1.3,  0.3],\n",
       "       [ 5.4,  2.3],\n",
       "       [ 1.4,  0.2],\n",
       "       [ 5. ,  2. ],\n",
       "       [ 5.4,  2.1],\n",
       "       [ 1.3,  0.2],\n",
       "       [ 1.4,  0.2],\n",
       "       [ 5.8,  1.6],\n",
       "       [ 1.4,  0.3],\n",
       "       [ 1.3,  0.2],\n",
       "       [ 1.7,  0.4],\n",
       "       [ 4. ,  1.3],\n",
       "       [ 5.9,  2.3],\n",
       "       [ 6.6,  2.1],\n",
       "       [ 1.4,  0.2],\n",
       "       [ 1.5,  0.1],\n",
       "       [ 1.4,  0.2],\n",
       "       [ 4.5,  1.3],\n",
       "       [ 4.4,  1.4],\n",
       "       [ 1.2,  0.2],\n",
       "       [ 1.7,  0.5],\n",
       "       [ 4.3,  1.3],\n",
       "       [ 1.5,  0.4],\n",
       "       [ 6.9,  2.3],\n",
       "       [ 3.3,  1. ],\n",
       "       [ 6.4,  2. ],\n",
       "       [ 4.4,  1.4],\n",
       "       [ 1.5,  0.1],\n",
       "       [ 4.8,  1.8],\n",
       "       [ 1.2,  0.2],\n",
       "       [ 6.7,  2. ],\n",
       "       [ 1.5,  0.3],\n",
       "       [ 1.6,  0.2],\n",
       "       [ 6.1,  1.9],\n",
       "       [ 1.4,  0.2],\n",
       "       [ 5.6,  2.4],\n",
       "       [ 4.1,  1.3],\n",
       "       [ 3.9,  1.2],\n",
       "       [ 3.5,  1. ],\n",
       "       [ 5.3,  2.3],\n",
       "       [ 5.2,  2.3],\n",
       "       [ 4.9,  1.5],\n",
       "       [ 5. ,  1.7],\n",
       "       [ 1.6,  0.2],\n",
       "       [ 3.7,  1. ],\n",
       "       [ 5.6,  2.4],\n",
       "       [ 5.1,  1.9],\n",
       "       [ 1.5,  0.2],\n",
       "       [ 4.6,  1.3],\n",
       "       [ 4.1,  1.3],\n",
       "       [ 4.8,  1.8],\n",
       "       [ 4.4,  1.3],\n",
       "       [ 1.3,  0.2],\n",
       "       [ 1.5,  0.4],\n",
       "       [ 1.5,  0.1],\n",
       "       [ 5.6,  1.8],\n",
       "       [ 4.1,  1. ],\n",
       "       [ 6.7,  2.2],\n",
       "       [ 1.4,  0.2]])"
      ]
     },
     "execution_count": 15,
     "metadata": {},
     "output_type": "execute_result"
    }
   ],
   "source": [
    "X_train"
   ]
  },
  {
   "cell_type": "code",
   "execution_count": 16,
   "metadata": {
    "collapsed": false,
    "scrolled": true
   },
   "outputs": [
    {
     "data": {
      "text/plain": [
       "array([[-0.18295039, -0.29145882],\n",
       "       [ 0.93066067,  0.73721938],\n",
       "       [ 1.04202177,  1.6373128 ],\n",
       "       [ 0.6522579 ,  0.35146505],\n",
       "       [ 1.09770233,  0.73721938],\n",
       "       [ 0.03977182, -0.16287405],\n",
       "       [ 1.26474398,  1.38014325],\n",
       "       [ 0.48521625,  0.48004983],\n",
       "       [-0.01590873, -0.16287405],\n",
       "       [ 0.59657735,  0.73721938],\n",
       "       [ 0.70793846,  0.35146505],\n",
       "       [ 0.37385514,  0.6086346 ],\n",
       "       [ 0.6522579 ,  0.86580415],\n",
       "       [ 0.48521625,  0.22288028],\n",
       "       [ 0.76361901,  0.99438893],\n",
       "       [ 0.37385514,  0.48004983],\n",
       "       [-1.24088089, -1.32013702],\n",
       "       [ 0.70793846,  0.86580415],\n",
       "       [ 0.20681348,  0.0942955 ],\n",
       "       [-0.12726983,  0.0942955 ],\n",
       "       [ 0.09545238,  0.0942955 ],\n",
       "       [ 0.42953569,  0.22288028],\n",
       "       [ 1.20906343,  0.73721938],\n",
       "       [-1.29656144, -1.32013702],\n",
       "       [-1.51928365, -1.4487218 ],\n",
       "       [ 0.81929956,  0.86580415],\n",
       "       [ 0.20681348, -0.03428927],\n",
       "       [-1.18520034, -1.32013702],\n",
       "       [-1.29656144, -1.06296747],\n",
       "       [ 0.59657735,  0.35146505],\n",
       "       [-1.29656144, -1.32013702],\n",
       "       [ 0.70793846,  0.73721938],\n",
       "       [-0.46135315, -0.16287405],\n",
       "       [-1.35224199, -1.19155225],\n",
       "       [ 0.37385514,  0.35146505],\n",
       "       [ 1.26474398,  1.6373128 ],\n",
       "       [ 0.20681348,  0.0942955 ],\n",
       "       [-1.35224199, -1.4487218 ],\n",
       "       [ 1.15338288,  1.1229737 ],\n",
       "       [ 1.04202177,  1.38014325],\n",
       "       [ 1.09770233,  1.25155848],\n",
       "       [ 0.98634122,  1.1229737 ],\n",
       "       [-1.24088089, -1.32013702],\n",
       "       [-1.24088089, -1.32013702],\n",
       "       [ 0.70793846,  0.99438893],\n",
       "       [ 1.04202177,  1.1229737 ],\n",
       "       [-1.40792255, -1.19155225],\n",
       "       [ 0.87498011,  1.38014325],\n",
       "       [-1.35224199, -1.32013702],\n",
       "       [ 0.6522579 ,  0.99438893],\n",
       "       [ 0.87498011,  1.1229737 ],\n",
       "       [-1.40792255, -1.32013702],\n",
       "       [-1.35224199, -1.32013702],\n",
       "       [ 1.09770233,  0.48004983],\n",
       "       [-1.35224199, -1.19155225],\n",
       "       [-1.40792255, -1.32013702],\n",
       "       [-1.18520034, -1.06296747],\n",
       "       [ 0.09545238,  0.0942955 ],\n",
       "       [ 1.15338288,  1.38014325],\n",
       "       [ 1.54314675,  1.1229737 ],\n",
       "       [-1.35224199, -1.32013702],\n",
       "       [-1.29656144, -1.4487218 ],\n",
       "       [-1.35224199, -1.32013702],\n",
       "       [ 0.37385514,  0.0942955 ],\n",
       "       [ 0.31817459,  0.22288028],\n",
       "       [-1.4636031 , -1.32013702],\n",
       "       [-1.18520034, -0.9343827 ],\n",
       "       [ 0.26249403,  0.0942955 ],\n",
       "       [-1.29656144, -1.06296747],\n",
       "       [ 1.71018841,  1.38014325],\n",
       "       [-0.29431149, -0.29145882],\n",
       "       [ 1.43178564,  0.99438893],\n",
       "       [ 0.31817459,  0.22288028],\n",
       "       [-1.29656144, -1.4487218 ],\n",
       "       [ 0.5408968 ,  0.73721938],\n",
       "       [-1.4636031 , -1.32013702],\n",
       "       [ 1.5988273 ,  0.99438893],\n",
       "       [-1.29656144, -1.19155225],\n",
       "       [-1.24088089, -1.32013702],\n",
       "       [ 1.26474398,  0.86580415],\n",
       "       [-1.35224199, -1.32013702],\n",
       "       [ 0.98634122,  1.50872803],\n",
       "       [ 0.15113293,  0.0942955 ],\n",
       "       [ 0.03977182, -0.03428927],\n",
       "       [-0.18295039, -0.29145882],\n",
       "       [ 0.81929956,  1.38014325],\n",
       "       [ 0.76361901,  1.38014325],\n",
       "       [ 0.59657735,  0.35146505],\n",
       "       [ 0.6522579 ,  0.6086346 ],\n",
       "       [-1.24088089, -1.32013702],\n",
       "       [-0.07158928, -0.29145882],\n",
       "       [ 0.98634122,  1.50872803],\n",
       "       [ 0.70793846,  0.86580415],\n",
       "       [-1.29656144, -1.32013702],\n",
       "       [ 0.42953569,  0.0942955 ],\n",
       "       [ 0.15113293,  0.0942955 ],\n",
       "       [ 0.5408968 ,  0.73721938],\n",
       "       [ 0.31817459,  0.0942955 ],\n",
       "       [-1.40792255, -1.32013702],\n",
       "       [-1.29656144, -1.06296747],\n",
       "       [-1.29656144, -1.4487218 ],\n",
       "       [ 0.98634122,  0.73721938],\n",
       "       [ 0.15113293, -0.29145882],\n",
       "       [ 1.5988273 ,  1.25155848],\n",
       "       [-1.35224199, -1.32013702]])"
      ]
     },
     "execution_count": 16,
     "metadata": {},
     "output_type": "execute_result"
    }
   ],
   "source": [
    "X_train_std"
   ]
  },
  {
   "cell_type": "code",
   "execution_count": 17,
   "metadata": {
    "collapsed": true
   },
   "outputs": [],
   "source": [
    "from sklearn.linear_model import Perceptron"
   ]
  },
  {
   "cell_type": "code",
   "execution_count": 32,
   "metadata": {
    "collapsed": false
   },
   "outputs": [],
   "source": [
    "ppn = Perceptron(n_iter=40, eta0=0.1, random_state=0, shuffle=True)"
   ]
  },
  {
   "cell_type": "code",
   "execution_count": 33,
   "metadata": {
    "collapsed": false
   },
   "outputs": [
    {
     "data": {
      "text/plain": [
       "Perceptron(alpha=0.0001, class_weight=None, eta0=0.1, fit_intercept=True,\n",
       "      n_iter=40, n_jobs=1, penalty=None, random_state=0, shuffle=True,\n",
       "      verbose=0, warm_start=False)"
      ]
     },
     "execution_count": 33,
     "metadata": {},
     "output_type": "execute_result"
    }
   ],
   "source": [
    "ppn.fit(X_train_std, y_train)"
   ]
  },
  {
   "cell_type": "code",
   "execution_count": 34,
   "metadata": {
    "collapsed": true
   },
   "outputs": [],
   "source": [
    "y_pred = ppn.predict(X_test_std)"
   ]
  },
  {
   "cell_type": "code",
   "execution_count": 35,
   "metadata": {
    "collapsed": false
   },
   "outputs": [
    {
     "name": "stdout",
     "output_type": "stream",
     "text": [
      "Misclassified samples: 4\n"
     ]
    }
   ],
   "source": [
    "print('Misclassified samples: %d'%(y_test != y_pred).sum())"
   ]
  },
  {
   "cell_type": "code",
   "execution_count": 36,
   "metadata": {
    "collapsed": true
   },
   "outputs": [],
   "source": [
    "from sklearn.metrics import accuracy_score"
   ]
  },
  {
   "cell_type": "code",
   "execution_count": 37,
   "metadata": {
    "collapsed": false
   },
   "outputs": [
    {
     "name": "stdout",
     "output_type": "stream",
     "text": [
      "Accuracy: 0.91\n"
     ]
    }
   ],
   "source": [
    "print('Accuracy: %.2f' %accuracy_score(y_test,y_pred))"
   ]
  },
  {
   "cell_type": "code",
   "execution_count": 19,
   "metadata": {
    "collapsed": false
   },
   "outputs": [],
   "source": [
    "from matplotlib.colors import ListedColormap\n",
    "import matplotlib.pyplot as plt\n",
    "\n",
    "def plot_decision_regions(X,y,classifier,test_idx=None,resolution=0.02):\n",
    "    markers = ('s','x','o','^','v')\n",
    "    colors = ('red','blue','lightgreen','gray','cyan')\n",
    "    cmap = ListedColormap(colors[:len(np.unique(y))])\n",
    "    \n",
    "    x1_min, x1_max = X[:,0].min() -1, X[:,0].max() + 1\n",
    "    x2_min, x2_max = X[:,1].min() -1, X[:,1].max() + 1\n",
    "    \n",
    "    xx1, xx2 = np.meshgrid(np.arange(x1_min, x1_max, resolution),\n",
    "                           np.arange(x2_min, x2_max, resolution))\n",
    "    \n",
    "    Z = classifier.predict(np.array([xx1.ravel(),xx2.ravel()]).T)\n",
    "    Z = Z.reshape(xx1.shape)\n",
    "    plt.contourf(xx1, xx2,Z,alpha=0.1, cmap=cmap)\n",
    "    plt.xlim(xx1.min(),xx1.max())\n",
    "    plt.ylim(xx2.min(),xx2.max())\n",
    "    \n",
    "    for idx, cl in enumerate(np.unique(y)):\n",
    "        plt.scatter(x=X[y ==cl, 0],y=X[y==cl, 1],alpha = 0.8, c=cmap(idx),marker =markers[idx],label=cl)\n",
    "    if test_idx:\n",
    "        X_test, y_test = X[test_idx,:], y[test_idx]\n",
    "        plt.scatter(X_test[:,0],X_test[:,1],c='',alpha=1.0, linewidths=1, marker='o',s=55,label='test set')"
   ]
  },
  {
   "cell_type": "code",
   "execution_count": 20,
   "metadata": {
    "collapsed": true
   },
   "outputs": [],
   "source": [
    "X_combined_std =np.vstack((X_train_std, X_test_std))\n",
    "y_combined =np.hstack((y_train,y_test))"
   ]
  },
  {
   "cell_type": "code",
   "execution_count": 96,
   "metadata": {
    "collapsed": false,
    "scrolled": true
   },
   "outputs": [
    {
     "data": {
      "image/png": "[encoded data removed]",
      "text/plain": [
       "<matplotlib.figure.Figure at 0x23605d970f0>"
      ]
     },
     "metadata": {},
     "output_type": "display_data"
    }
   ],
   "source": [
    "%matplotlib inline\n",
    "plot_decision_regions(X=X_combined_std, y=y_combined, classifier=ppn, test_idx=range(105,150))\n",
    "plt.xlabel('petal length [standardized]')\n",
    "plt.ylabel('petal width [standardized]')\n",
    "plt.legend(loc ='upper left')\n",
    "plt.show()"
   ]
  },
  {
   "cell_type": "code",
   "execution_count": 70,
   "metadata": {
    "collapsed": false
   },
   "outputs": [],
   "source": [
    "xx1,xx2 =np.meshgrid(np.arange(0,10,0.2),np.arange(10,20,0.2))"
   ]
  },
  {
   "cell_type": "code",
   "execution_count": 73,
   "metadata": {
    "collapsed": false
   },
   "outputs": [
    {
     "data": {
      "text/plain": [
       "array([ 0. ,  0.2,  0.4, ...,  9.4,  9.6,  9.8])"
      ]
     },
     "execution_count": 73,
     "metadata": {},
     "output_type": "execute_result"
    }
   ],
   "source": [
    "xx1.ravel()"
   ]
  },
  {
   "cell_type": "code",
   "execution_count": 74,
   "metadata": {
    "collapsed": false
   },
   "outputs": [
    {
     "data": {
      "text/plain": [
       "array([ 10. ,  10. ,  10. , ...,  19.8,  19.8,  19.8])"
      ]
     },
     "execution_count": 74,
     "metadata": {},
     "output_type": "execute_result"
    }
   ],
   "source": [
    "xx2.ravel()"
   ]
  },
  {
   "cell_type": "code",
   "execution_count": 75,
   "metadata": {
    "collapsed": false
   },
   "outputs": [
    {
     "data": {
      "text/plain": [
       "array([ 0. ,  0.2,  0.4,  0.6,  0.8,  1. ,  1.2,  1.4,  1.6,  1.8,  2. ,\n",
       "        2.2,  2.4,  2.6,  2.8,  3. ,  3.2,  3.4,  3.6,  3.8,  4. ,  4.2,\n",
       "        4.4,  4.6,  4.8,  5. ,  5.2,  5.4,  5.6,  5.8,  6. ,  6.2,  6.4,\n",
       "        6.6,  6.8,  7. ,  7.2,  7.4,  7.6,  7.8,  8. ,  8.2,  8.4,  8.6,\n",
       "        8.8,  9. ,  9.2,  9.4,  9.6,  9.8])"
      ]
     },
     "execution_count": 75,
     "metadata": {},
     "output_type": "execute_result"
    }
   ],
   "source": [
    "np.arange(0,10,0.2)"
   ]
  },
  {
   "cell_type": "code",
   "execution_count": 76,
   "metadata": {
    "collapsed": false
   },
   "outputs": [
    {
     "data": {
      "text/plain": [
       "array([[ 10. ,  10. ,  10. , ...,  10. ,  10. ,  10. ],\n",
       "       [ 10.2,  10.2,  10.2, ...,  10.2,  10.2,  10.2],\n",
       "       [ 10.4,  10.4,  10.4, ...,  10.4,  10.4,  10.4],\n",
       "       ..., \n",
       "       [ 19.4,  19.4,  19.4, ...,  19.4,  19.4,  19.4],\n",
       "       [ 19.6,  19.6,  19.6, ...,  19.6,  19.6,  19.6],\n",
       "       [ 19.8,  19.8,  19.8, ...,  19.8,  19.8,  19.8]])"
      ]
     },
     "execution_count": 76,
     "metadata": {},
     "output_type": "execute_result"
    }
   ],
   "source": [
    "xx2"
   ]
  },
  {
   "cell_type": "code",
   "execution_count": 77,
   "metadata": {
    "collapsed": false
   },
   "outputs": [
    {
     "data": {
      "text/plain": [
       "array([[ 0. ,  0.2,  0.4, ...,  9.4,  9.6,  9.8],\n",
       "       [ 0. ,  0.2,  0.4, ...,  9.4,  9.6,  9.8],\n",
       "       [ 0. ,  0.2,  0.4, ...,  9.4,  9.6,  9.8],\n",
       "       ..., \n",
       "       [ 0. ,  0.2,  0.4, ...,  9.4,  9.6,  9.8],\n",
       "       [ 0. ,  0.2,  0.4, ...,  9.4,  9.6,  9.8],\n",
       "       [ 0. ,  0.2,  0.4, ...,  9.4,  9.6,  9.8]])"
      ]
     },
     "execution_count": 77,
     "metadata": {},
     "output_type": "execute_result"
    }
   ],
   "source": [
    "xx1"
   ]
  },
  {
   "cell_type": "code",
   "execution_count": 94,
   "metadata": {
    "collapsed": false
   },
   "outputs": [
    {
     "data": {
      "text/plain": [
       "LogisticRegression(C=1000.0, class_weight=None, dual=False,\n",
       "          fit_intercept=True, intercept_scaling=1, max_iter=100,\n",
       "          multi_class='ovr', n_jobs=1, penalty='l2', random_state=0,\n",
       "          solver='liblinear', tol=0.0001, verbose=0, warm_start=False)"
      ]
     },
     "execution_count": 94,
     "metadata": {},
     "output_type": "execute_result"
    }
   ],
   "source": [
    "from sklearn.linear_model import LogisticRegression\n",
    "lr =LogisticRegression(C=1000.0, random_state = 0)\n",
    "lr.fit(X_train_std,y_train)"
   ]
  },
  {
   "cell_type": "code",
   "execution_count": 98,
   "metadata": {
    "collapsed": false
   },
   "outputs": [
    {
     "data": {
      "image/png": "[encoded data removed]",
      "text/plain": [
       "<matplotlib.figure.Figure at 0x2360658c630>"
      ]
     },
     "metadata": {},
     "output_type": "display_data"
    }
   ],
   "source": [
    "plot_decision_regions(X_combined_std, y_combined, classifier=lr, test_idx =range(105,150))\n",
    "plt.xlabel('petal length')\n",
    "plt.ylabel('petal width')\n",
    "plt.legend(loc='upper left')\n",
    "plt.show()"
   ]
  },
  {
   "cell_type": "code",
   "execution_count": 100,
   "metadata": {
    "collapsed": false
   },
   "outputs": [
    {
     "data": {
      "text/plain": [
       "array([[  2.05743774e-11,   6.31620264e-02,   9.36837974e-01]])"
      ]
     },
     "execution_count": 100,
     "metadata": {},
     "output_type": "execute_result"
    }
   ],
   "source": [
    "lr.predict_proba(X_test_std[0,:].reshape(1,-1))"
   ]
  },
  {
   "cell_type": "code",
   "execution_count": 102,
   "metadata": {
    "collapsed": false
   },
   "outputs": [
    {
     "data": {
      "text/plain": [
       "array([ 0.70793846,  1.50872803])"
      ]
     },
     "execution_count": 102,
     "metadata": {},
     "output_type": "execute_result"
    }
   ],
   "source": [
    "X_test_std[0,:]"
   ]
  },
  {
   "cell_type": "code",
   "execution_count": 103,
   "metadata": {
    "collapsed": false
   },
   "outputs": [
    {
     "data": {
      "text/plain": [
       "array([[ 0.70793846,  1.50872803]])"
      ]
     },
     "execution_count": 103,
     "metadata": {},
     "output_type": "execute_result"
    }
   ],
   "source": [
    "X_test_std[0,:].reshape(1,-1)"
   ]
  },
  {
   "cell_type": "code",
   "execution_count": 106,
   "metadata": {
    "collapsed": false
   },
   "outputs": [
    {
     "data": {
      "image/png": "[encoded data removed]",
      "text/plain": [
       "<matplotlib.figure.Figure at 0x236067574e0>"
      ]
     },
     "metadata": {},
     "output_type": "display_data"
    }
   ],
   "source": [
    "from sklearn.svm import SVC\n",
    "svm = SVC(kernel='linear', C=1.0, random_state=0)\n",
    "svm.fit(X_train_std,y_train)\n",
    "plot_decision_regions(X_combined_std,y_combined,classifier=svm,test_idx=range(105,150))\n",
    "plt.xlabel('petal length')\n",
    "plt.ylabel('petal width')\n",
    "plt.legend(loc='upper left')\n",
    "plt.show()"
   ]
  },
  {
   "cell_type": "code",
   "execution_count": 25,
   "metadata": {
    "collapsed": false
   },
   "outputs": [
    {
     "data": {
      "image/png": "[encoded data removed]",
      "text/plain": [
       "<matplotlib.figure.Figure at 0x28a534d0f28>"
      ]
     },
     "metadata": {},
     "output_type": "display_data"
    }
   ],
   "source": [
    "%matplotlib inline\n",
    "from sklearn.svm import SVC\n",
    "svm = SVC(kernel='linear', C=1.0, random_state=0)\n",
    "svm.fit(X_train_std,y_train)\n",
    "plot_decision_regions(X_combined_std,y_combined,classifier=svm,test_idx=range(105,150))\n",
    "plt.xlabel('petal length')\n",
    "plt.ylabel('petal width')\n",
    "plt.legend(loc='upper left')\n",
    "plt.show()"
   ]
  },
  {
   "cell_type": "code",
   "execution_count": 18,
   "metadata": {
    "collapsed": false
   },
   "outputs": [
    {
     "data": {
      "text/plain": [
       "LogisticRegression(C=1000.0, class_weight=None, dual=False,\n",
       "          fit_intercept=True, intercept_scaling=1, max_iter=100,\n",
       "          multi_class='ovr', n_jobs=1, penalty='l2', random_state=0,\n",
       "          solver='liblinear', tol=0.0001, verbose=0, warm_start=False)"
      ]
     },
     "execution_count": 18,
     "metadata": {},
     "output_type": "execute_result"
    }
   ],
   "source": [
    "from sklearn.linear_model import LogisticRegression\n",
    "lr =LogisticRegression(C=1000.0,random_state=0)\n",
    "lr.fit(X_train_std,y_train)"
   ]
  },
  {
   "cell_type": "code",
   "execution_count": 22,
   "metadata": {
    "collapsed": false
   },
   "outputs": [],
   "source": [
    "plot_decision_regions(X_combined_std,y_combined,classifier=lr,test_idx=range(105,150))"
   ]
  },
  {
   "cell_type": "code",
   "execution_count": 23,
   "metadata": {
    "collapsed": true
   },
   "outputs": [],
   "source": [
    "plt.xlabel('petal length')\n",
    "plt.ylabel('petal width')\n",
    "plt.legend(loc='upper left')\n",
    "plt.show()"
   ]
  },
  {
   "cell_type": "code",
   "execution_count": 28,
   "metadata": {
    "collapsed": false
   },
   "outputs": [
    {
     "data": {
      "image/png": "[encoded data removed]",
      "text/plain": [
       "<matplotlib.figure.Figure at 0x28a53a26cf8>"
      ]
     },
     "metadata": {},
     "output_type": "display_data"
    }
   ],
   "source": [
    "from sklearn.tree import DecisionTreeClassifier\n",
    "tree = DecisionTreeClassifier(criterion='entropy',max_depth=3,random_state=0)\n",
    "tree.fit(X_train,y_train)\n",
    "X_combined = np.vstack((X_train,X_test))\n",
    "y_combined = np.hstack((y_train,y_test))\n",
    "plot_decision_regions(X_combined,y_combined,classifier=tree,test_idx=range(105,150))\n",
    "plt.xlabel('petal length')\n",
    "plt.ylabel('petal width')\n",
    "plt.legend(loc='upper left')\n",
    "plt.show()"
   ]
  },
  {
   "cell_type": "code",
   "execution_count": 29,
   "metadata": {
    "collapsed": true
   },
   "outputs": [],
   "source": [
    "from sklearn.tree import export_graphviz\n",
    "export_graphviz(tree,out_file='tree.dot',feature_names=['petal length','petal width'])"
   ]
  },
  {
   "cell_type": "code",
   "execution_count": 32,
   "metadata": {
    "collapsed": false
   },
   "outputs": [
    {
     "data": {
      "image/png": "[encoded data removed]",
      "text/plain": [
       "<matplotlib.figure.Figure at 0x28a526c66a0>"
      ]
     },
     "metadata": {},
     "output_type": "display_data"
    }
   ],
   "source": [
    "from sklearn.ensemble import RandomForestClassifier\n",
    "forest = RandomForestClassifier(criterion='entropy',n_estimators=10,random_state=1,n_jobs=)\n",
    "forest.fit(X_train,y_train)\n",
    "plot_decision_regions(X_combined,y_combined,classifier=forest,test_idx=range(105,150))\n",
    "plt.xlabel('petal length')\n",
    "plt.ylabel('petal width')\n",
    "plt.legend(loc='upper left')\n",
    "plt.show()"
   ]
  },
  {
   "cell_type": "code",
   "execution_count": null,
   "metadata": {
    "collapsed": true
   },
   "outputs": [],
   "source": []
  }
 ],
 "metadata": {
  "anaconda-cloud": {},
  "kernelspec": {
   "display_name": "Python [Root]",
   "language": "python",
   "name": "Python [Root]"
  },
  "language_info": {
   "codemirror_mode": {
    "name": "ipython",
    "version": 3
   },
   "file_extension": ".py",
   "mimetype": "text/x-python",
   "name": "python",
   "nbconvert_exporter": "python",
   "pygments_lexer": "ipython3",
   "version": "3.5.1"
  }
 },
 "nbformat": 4,
 "nbformat_minor": 0
}
